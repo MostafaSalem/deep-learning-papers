{
 "cells": [
  {
   "cell_type": "markdown",
   "id": "5cf560f8",
   "metadata": {},
   "source": [
    "> # Intro"
   ]
  },
  {
   "cell_type": "markdown",
   "id": "36c5424d",
   "metadata": {},
   "source": [
    "Commonly, ConvNets are designed under a fixed resource budget and scaled up for better accuracy when more resources are available. The most common ways of scaling up are scaling up the network's **depth**(more layers), **width**(more channels), and **resolution** (spatial dimension).\n",
    "\n",
    "1. **Depth** Scaling: ResNet\n",
    "2. **Width** Scaling: Wide ResNet\n",
    "3. **Image Resolutin** Scaling: GPipe\n",
    "\n",
    "As above, traditionally, only one of the three dimensions - depth, width, and resolution. Although it's possible to scale multiple of them, it requires tedious manual tuning with no guarantee of optimal accuracy and efficiency. The author argues that the process of scaling up of CNN has never been fully understood. \n",
    "\n",
    "The author asks:\n",
    "\n",
    "> ### Is there a principled way of scaling up network to achieve better **accuracy** and **efficiency**?\n",
    "\n",
    "The empirical studies observe that it's critical to balance all dimensions of network width/depth/resolution rather than just one. The author proposes that this balancing could be achieved by a simple and effective method called **compound scaling method** which uniformly scales each with constant ratio.\n",
    "\n",
    "| ![space-1.jpg](../images/EfficientNet1.png) | \n",
    "|:--:| \n",
    "| *[EfficientNet](https://arxiv.org/pdf/1905.11946.pdf)* |"
   ]
  },
  {
   "cell_type": "markdown",
   "id": "5ff77162",
   "metadata": {},
   "source": [
    "The compound scaling intuitively makes sense because if you increase the image resolution, **more depth**(layers) is needed to gain larger effective receptive field and **higher width** is necessary to capture more fine-grained patterns on the larger image."
   ]
  },
  {
   "cell_type": "markdown",
   "id": "d8d0a175",
   "metadata": {},
   "source": [
    "> # Baseline Architecture"
   ]
  },
  {
   "cell_type": "markdown",
   "id": "8b09ba61",
   "metadata": {},
   "source": [
    "Having a baseline architecture is critical. The primary reason is that the network operator $F_i$, which we'll see soon, is fixed and we're manipulating network depth, width and resolution.\n",
    "\n",
    "A new baseline network is developed using nas(Network Architecture Search) and scaled up using compound scaling method to get a **family** of models called **EfficientNets**."
   ]
  },
  {
   "cell_type": "markdown",
   "id": "ce57efdd",
   "metadata": {},
   "source": [
    "> # ConvNet Accuracy\n",
    "\n",
    "Since 2012 with AlexNet, CNN has been increasingly popular. GoogleNet(2015) hit $74.8\\%$ top-1 accuracy with **6.8M** parameters. SENet(2018), 2017 ImageNet winner, ahiceved $82.7\\%$ top-1 accuracy with **145M** parameters, and GPipe(2018) achieved $84.3\\%$ with **557M** parameters.\n",
    "\n",
    "These networks are so huge that they can only be trained with specialized pipeline parallelism library. Although higer accuracy is important, we've already hit the hardware memory limit. Thus, the author suggests,\n",
    "\n",
    "> Let's take care of efficiency before we further push accuracy"
   ]
  },
  {
   "cell_type": "markdown",
   "id": "e8fdcc3a",
   "metadata": {},
   "source": [
    "> # ConvNet Efficiency\n",
    "\n",
    "Often deep CNNS are overparameterized(too complex w.r.t size of dataset). Model compression is frequently used to reduce the model size, trading efficiency for accuracy such as MobileNets, ShuffleNets, and SqueezeNets. They work out pretty well. Neural Network Search(nas) also contribute to better efficiency than hand-crated mobile ConvNets with extensive tunning. However, the way of applying these techniques to very large models is still unclear."
   ]
  },
  {
   "cell_type": "markdown",
   "id": "1e74fd77",
   "metadata": {},
   "source": [
    "> # Compound Model Scaling"
   ]
  },
  {
   "cell_type": "markdown",
   "id": "c0d209a8",
   "metadata": {},
   "source": [
    "> ## 1. Formulation"
   ]
  },
  {
   "cell_type": "markdown",
   "id": "91138d8d",
   "metadata": {},
   "source": [
    "$$Layer\\ i:\\ Y_i = F_i(X_i)$$\n",
    "\n",
    "with tensor shape $<H_i,W_i,C_i>$. $F_i$ is the operator(ex. kernel op), $X_i$ is input tensor, and $Y_i$ is output tensor.\n",
    "\n",
    "$$ConvNet: \\mathcal{N} = \\mathcal{F_k} \\odot...\\odot \\mathcal{F_2}\\odot \\mathcal{F_1}(X_1) = \\odot_{j=1...k}\\mathcal{F_j}(X_i)$$\n",
    "\n",
    "In practice, ConvNets are often partitioned into **stages** with same conv operations. Hence, define a ConvNet as:\n",
    "\n",
    "$$\\mathcal{N}=\\odot_{j=1...k} F_i^{L_i}(X_{<H_i,W_i,C_i>})$$\n",
    "\n",
    "$F_i^{L_i}$: Layer $F_i$ is repeated $L_i$ times in stage $i$\n",
    "$<H_i,W_i,C_i>$: shape of input tensor X of layer i.\n"
   ]
  },
  {
   "cell_type": "markdown",
   "id": "9df10532",
   "metadata": {},
   "source": [
    "Unlike regular ConvNet designs that look for the best $F_i$, the paper is trying to expand $L_i, C_i, H_i, W_i$ with fixed $F_i$ which is pre-defiend in the baseilne network. Fixing $F_i$ simplifies the design problem but still enough space to eplore different $L_i, C_i, H_i, W_i$. For further reducing design space, all layers must be scaled uniformly with constant ratio. Then, the target is treated as an **optimization problem** that maximizes the **model accuracy** for a given resource budget.\n",
    "\n",
    "| ![space-1.jpg](../images/EfficientNet2.png) | \n",
    "|:--:| \n",
    "| *[EfficientNet](https://arxiv.org/pdf/1905.11946.pdf)* |\n",
    "\n",
    "\n",
    "$w,\\ d,\\ r$ are coefficients for scaling networth width, depth and resolution. $\\hat{F_i}, \\hat{L_i}, \\hat{H_i}, \\hat{W_i}, \\hat{C_i}$ are pre-defined parameters in the **baseline** network. Below is the **EfficientNet-B0** baseline network.\n",
    "\n",
    "| ![space-1.jpg](../images/EfficientNet3.png) | \n",
    "|:--:| \n",
    "| *[EfficientNet](https://arxiv.org/pdf/1905.11946.pdf)* |\n",
    "\n"
   ]
  },
  {
   "cell_type": "markdown",
   "id": "4bdd5bea",
   "metadata": {},
   "source": [
    "> ## 2. Scaling Dimensions\n",
    "\n",
    "It's been common to scale only one of the three dimensions - depth, width, and resolution. One of the main reasons is that the otimal $d,w,r$ are dependent on each other and difference resource budges affect them."
   ]
  },
  {
   "cell_type": "markdown",
   "id": "40e3bb9a",
   "metadata": {},
   "source": [
    "| ![space-1.jpg](../images/EfficientNet4.png) | \n",
    "|:--:| \n",
    "| *[EfficientNet](https://arxiv.org/pdf/1905.11946.pdf)* |"
   ]
  },
  {
   "cell_type": "markdown",
   "id": "1e99a5bc",
   "metadata": {},
   "source": [
    "## Depth (d)\n",
    "\n",
    "Like ResNet, scaling up network depth is very common and indeed enjoyes higher performance by capturing more complex features. However, deep network suffers gradient vanishing. Although techniques such as shortcut connection and batch normalization are definitely helpful, **very deep network** still suffers from **accuracy saturation**. For example, ResNet-1000 shows a similar performance as ResNet-101 despite its huge increase in network depth."
   ]
  },
  {
   "cell_type": "markdown",
   "id": "41601201",
   "metadata": {},
   "source": [
    "## Width (w)\n",
    "\n",
    "Scaling up network width is also a common method such as Wide-ResNet that is able to capture more fine-grained features. However, very wide networks also show **accuracy saturation**."
   ]
  },
  {
   "cell_type": "markdown",
   "id": "ae49c59c",
   "metadata": {},
   "source": [
    "## Resolution (r)\n",
    "\n",
    "Scaling up image resolution can also potentially capture more fine-grained patterns. For example, GPipe(2018) uses $480*480$ resolution. The resolution scaling contributes to the higher accuracy but very high resolutions also suffer from **accuracy saturation**."
   ]
  },
  {
   "cell_type": "markdown",
   "id": "a74fdc1b",
   "metadata": {},
   "source": [
    "> ## 3. Compound Scaling\n",
    "\n",
    "We saw that scaling up any dimension improves accuracy but accuracy saturation occurs for larger models.\n",
    "\n",
    "Also, higher resolution should be balanced with higher depth and width as previously explained. Therefore, we need a way of balancing all the three dimensions rather than a single-dimension scaling.\n",
    "\n",
    "| ![space-1.jpg](../images/EfficientNet5.png) | \n",
    "|:--:| \n",
    "| *[EfficientNet](https://arxiv.org/pdf/1905.11946.pdf)* |\n",
    "\n",
    "To demonstrate the validity of balanced scaling, the experiment was performed where the accuarcy and FLOPS were recorded with different **width scaling** under different set of $d, r$. It's observed that width scaling with unscaled $d,r$ quickly saturates. On the otherhand, width scaling under $d=2, r=1.3$ achieves higher accuracy with similar FLOPs cost."
   ]
  },
  {
   "cell_type": "markdown",
   "id": "623752ac",
   "metadata": {},
   "source": [
    "> ## 4. Compound Scaling Method\n",
    "\n",
    "| ![space-1.jpg](../Images/EfficientNet6.png) | \n",
    "|:--:| \n",
    "| *[EfficientNet](https://arxiv.org/pdf/1905.11946.pdf)* |\n",
    "\n",
    "* $\\alpha, \\beta, \\gamma$ are constant determined by a small **grid search**. They determine how much to scale depth, width, and resolution, respectively.\n",
    "* $\\phi$ is a user-defined coefficient that is selected according to the resource budget.\n",
    "* FLOPs of a regular conv operation is proportional to $d,w^2,r^2$. If you double the network depth, the FLOPs will be doubled. However, if you double network width, then the FLOPs will be quadrupled since input and output of a layer are both doubled($C$ to $2C$ for input and output, so $4C^2$). Doubling resolution obviously increases FLOPs by 4 times.\n",
    "* Since conv operations usually dominate the CNN computational cost, scaling network dimensions with the method $(3)$ will approximately increase the total FLOPs by $(\\alpha*\\beta*\\gamma)^{\\phi}$.\n",
    "* The paper contraints $\\alpha*\\beta*\\gamma \\approx 2$. Therefore, the total FLOPS will be roughly increased by $2^\\phi$."
   ]
  },
  {
   "cell_type": "markdown",
   "id": "5ef01013",
   "metadata": {},
   "source": [
    "> # EfficientNet Architecture"
   ]
  },
  {
   "cell_type": "markdown",
   "id": "f66892a2",
   "metadata": {},
   "source": [
    "| ![space-1.jpg](../images/EfficientNet3.png) | \n",
    "|:--:| \n",
    "| *[EfficientNet](https://arxiv.org/pdf/1905.11946.pdf)* |\n"
   ]
  },
  {
   "cell_type": "markdown",
   "id": "79bb54ee",
   "metadata": {},
   "source": [
    "The above is the **EfficientNet-B0** baseline architecture.\n",
    "* The main buliding block is **mobile inverted bottleneck**(MBConv)\n",
    "* **Squeeze-and-excitation optimization** added.\n",
    "\n",
    "Starting from this baseline model, we follow the two steps to build **EfficientNets** family.\n",
    "\n",
    "* Step 1: Fix $\\phi=1$. Perform a small grid search for $\\alpha,\\beta,\\gamma$ based on equations $(2), (3)$. The paper foundt the best values for EfficientNet-80 to be $\\alpha=1.2,\\beta=1.1,\\gamma=1.15$.\n",
    "* Step 2: Now fix $\\alpha, \\beta, \\gamma$ as constants and scale up with different $\\phi$ values based on the equation $(3)$ to obtain EfficientNet-B1 to B7 (Table 2)."
   ]
  },
  {
   "cell_type": "markdown",
   "id": "4be7be76",
   "metadata": {},
   "source": [
    "> # Experiments & Performance"
   ]
  },
  {
   "cell_type": "markdown",
   "id": "83b5c06b",
   "metadata": {},
   "source": [
    "> ## 1. EfficientNet Performance compared with other models"
   ]
  },
  {
   "cell_type": "markdown",
   "id": "86ec85f8",
   "metadata": {},
   "source": [
    "| ![space-1.jpg](../images/EfficientNet7.png) | \n",
    "|:--:| \n",
    "| *[EfficientNet](https://arxiv.org/pdf/1905.11946.pdf)* |\n",
    "\n",
    "To demonstrate the effectiveness of the **compound model scaling**, the Table 2 shows the comparision of **number of parameters** and **FLOPs cost** between each EfficientNet model and other models that show **similar top-1 and top-5 error** to clearly demonstrate the increased efficiency. Taking **EfficientNet-B0** as an example, it shows similar top-1 and top-5 accuracy to ResNet-50 and DenseNet-169 but has significantly less parameters $(5.3M)$ and FLOPs $(0.39B)$."
   ]
  },
  {
   "cell_type": "markdown",
   "id": "12993c9a",
   "metadata": {},
   "source": [
    "> ## 2. Scaling up other models\n",
    "\n",
    "![EfficientNet](../images/EfficientNet8.png)"
   ]
  },
  {
   "cell_type": "markdown",
   "id": "d2e5bf83",
   "metadata": {},
   "source": [
    "The compound scaling method is applied to **ResNet** and **MobileNets** to demonstrate its effect. The compound scaling improves the aaccuracy on these models as shown above. MobileNetV1, MobileNetV2, and ResNet-50 with compound scaling shows $2.9\\%$, $2.6\\%$, and $0.7\\%$ improvement in top-1 accuracy respectively."
   ]
  },
  {
   "cell_type": "markdown",
   "id": "e5983d5f",
   "metadata": {},
   "source": [
    "> # Compound Scaling Activation Map\n",
    "\n",
    "| ![space-1.jpg](../images/EfficientNet9.png) | \n",
    "|:--:| \n",
    "| *[EfficientNet](https://arxiv.org/pdf/1905.11946.pdf)* |"
   ]
  },
  {
   "cell_type": "markdown",
   "id": "65d8fead",
   "metadata": {},
   "source": [
    "Compared to single-scaling, compound scaling seems to capture more detailed and generic feature of macarons and maze."
   ]
  }
 ],
 "metadata": {
  "kernelspec": {
   "display_name": "Python 3",
   "language": "python",
   "name": "python3"
  },
  "language_info": {
   "codemirror_mode": {
    "name": "ipython",
    "version": 3
   },
   "file_extension": ".py",
   "mimetype": "text/x-python",
   "name": "python",
   "nbconvert_exporter": "python",
   "pygments_lexer": "ipython3",
   "version": "3.8.8"
  }
 },
 "nbformat": 4,
 "nbformat_minor": 5
}
